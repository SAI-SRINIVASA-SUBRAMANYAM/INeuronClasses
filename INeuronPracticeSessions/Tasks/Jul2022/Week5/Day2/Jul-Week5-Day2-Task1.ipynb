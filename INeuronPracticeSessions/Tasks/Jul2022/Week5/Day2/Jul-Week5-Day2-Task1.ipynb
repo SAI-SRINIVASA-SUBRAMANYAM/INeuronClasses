{
 "cells": [
  {
   "cell_type": "markdown",
   "id": "5a0dc73d",
   "metadata": {},
   "source": [
    "# Imports"
   ]
  },
  {
   "cell_type": "code",
   "execution_count": 1,
   "id": "91215752",
   "metadata": {},
   "outputs": [],
   "source": [
    "import pandas as pd"
   ]
  },
  {
   "cell_type": "markdown",
   "id": "a39738c3",
   "metadata": {},
   "source": [
    "# Global declarations"
   ]
  },
  {
   "cell_type": "code",
   "execution_count": 2,
   "id": "74201491",
   "metadata": {},
   "outputs": [],
   "source": [
    "Filename = r'FitBitData.csv'"
   ]
  },
  {
   "cell_type": "code",
   "execution_count": 3,
   "id": "fccf59a6",
   "metadata": {},
   "outputs": [],
   "source": [
    "TOTAL_CALORIES_TO_BE_BURNT = 55600"
   ]
  },
  {
   "cell_type": "code",
   "execution_count": 4,
   "id": "0008bf32",
   "metadata": {},
   "outputs": [],
   "source": [
    "df = pd.read_csv(Filename)"
   ]
  },
  {
   "cell_type": "markdown",
   "id": "8903fbcf",
   "metadata": {},
   "source": [
    "# 4. Find out in this data that how many unique id's we have"
   ]
  },
  {
   "cell_type": "code",
   "execution_count": 5,
   "id": "2f2fd444",
   "metadata": {},
   "outputs": [
    {
     "data": {
      "text/plain": [
       "array([1503960366, 1624580081, 1644430081, 1844505072, 1927972279,\n",
       "       2022484408, 2026352035, 2320127002, 2347167796, 2873212765,\n",
       "       2891001357, 3372868164, 3977333714, 4020332650, 4057192912,\n",
       "       4319703577, 4388161847, 4445114986, 4558609924, 4702921684,\n",
       "       5553957443, 5577150313, 6117666160, 6290855005, 6391747486,\n",
       "       6775888955, 6962181067, 7007744171, 7086361926, 8053475328,\n",
       "       8253242879, 8378563200, 8583815059, 8792009665, 8877689391],\n",
       "      dtype=int64)"
      ]
     },
     "execution_count": 5,
     "metadata": {},
     "output_type": "execute_result"
    }
   ],
   "source": [
    "df.Id.unique()"
   ]
  },
  {
   "cell_type": "markdown",
   "id": "a697aaa9",
   "metadata": {},
   "source": [
    "# 5. which id is one of the active id that you have in whole dataset"
   ]
  },
  {
   "cell_type": "code",
   "execution_count": 6,
   "id": "b029c703",
   "metadata": {},
   "outputs": [],
   "source": [
    "active_id = df.groupby('Id')['ActivityDate'].nunique().sort_values(ascending=False)"
   ]
  },
  {
   "cell_type": "code",
   "execution_count": 7,
   "id": "5db683fe",
   "metadata": {},
   "outputs": [
    {
     "data": {
      "text/plain": [
       "Id\n",
       "4057192912    32\n",
       "Name: ActivityDate, dtype: int64"
      ]
     },
     "execution_count": 7,
     "metadata": {},
     "output_type": "execute_result"
    }
   ],
   "source": [
    "active_id.iloc[0:1]"
   ]
  },
  {
   "cell_type": "markdown",
   "id": "bf53d822",
   "metadata": {},
   "source": [
    "# 6. how many of them have not logged there activity find out in terms of number of ids"
   ]
  },
  {
   "cell_type": "code",
   "execution_count": 8,
   "id": "4af2a180",
   "metadata": {},
   "outputs": [
    {
     "data": {
      "text/plain": [
       "array([1844505072, 2320127002, 2347167796, 2873212765, 2891001357,\n",
       "       4057192912, 4319703577, 4388161847, 4702921684, 6117666160,\n",
       "       6290855005, 6391747486, 6775888955, 8253242879], dtype=int64)"
      ]
     },
     "execution_count": 8,
     "metadata": {},
     "output_type": "execute_result"
    }
   ],
   "source": [
    "df[df['TotalSteps'] == 0].Id.unique()"
   ]
  },
  {
   "cell_type": "markdown",
   "id": "1e9525c8",
   "metadata": {},
   "source": [
    "# 7. Find out who is the laziest person id that we have in dataset"
   ]
  },
  {
   "cell_type": "code",
   "execution_count": 9,
   "id": "bee70147",
   "metadata": {},
   "outputs": [],
   "source": [
    "lazy_persons = df[df['TotalSteps'] > 0].groupby(['Id'])['TotalSteps'].mean().sort_values()"
   ]
  },
  {
   "cell_type": "code",
   "execution_count": 10,
   "id": "2df8b0c9",
   "metadata": {},
   "outputs": [
    {
     "data": {
      "text/plain": [
       "Id\n",
       "1927972279    2180.833333\n",
       "Name: TotalSteps, dtype: float64"
      ]
     },
     "execution_count": 10,
     "metadata": {},
     "output_type": "execute_result"
    }
   ],
   "source": [
    "lazy_persons.iloc[0:1]"
   ]
  },
  {
   "cell_type": "markdown",
   "id": "8449a6e4",
   "metadata": {},
   "source": [
    "# 8. Explore over an internet that how much calories burn is required for a healthy person and find out how many healthy person we have in our dataset"
   ]
  },
  {
   "cell_type": "raw",
   "id": "da62b562",
   "metadata": {},
   "source": [
    "Lets assume above 1800 per day i.e., 55800 per month "
   ]
  },
  {
   "cell_type": "code",
   "execution_count": 11,
   "id": "01bc519c",
   "metadata": {},
   "outputs": [],
   "source": [
    "total_calories_burnt = df.groupby(['Id'])['Calories'].sum()"
   ]
  },
  {
   "cell_type": "code",
   "execution_count": 12,
   "id": "0dec2075",
   "metadata": {},
   "outputs": [
    {
     "data": {
      "text/plain": [
       "Id\n",
       "4020332650    98412\n",
       "4057192912    60913\n",
       "Name: Calories, dtype: int64"
      ]
     },
     "execution_count": 12,
     "metadata": {},
     "output_type": "execute_result"
    }
   ],
   "source": [
    "total_calories_burnt[total_calories_burnt > TOTAL_CALORIES_TO_BE_BURNT]"
   ]
  },
  {
   "cell_type": "markdown",
   "id": "aea5c4c9",
   "metadata": {},
   "source": [
    "# 9. how many person are not a regular person with respect to activity try to find out those"
   ]
  },
  {
   "cell_type": "code",
   "execution_count": null,
   "id": "a5d4d24e",
   "metadata": {},
   "outputs": [],
   "source": []
  },
  {
   "cell_type": "markdown",
   "id": "f572767d",
   "metadata": {},
   "source": [
    "# 10. who is the third most active person in this dataset find out those in pandas and in sql both ."
   ]
  },
  {
   "cell_type": "code",
   "execution_count": 13,
   "id": "8c276674",
   "metadata": {},
   "outputs": [],
   "source": [
    "active_persons = df.groupby('Id')['ActivityDate'].count().sort_values()"
   ]
  },
  {
   "cell_type": "code",
   "execution_count": 14,
   "id": "9d0cca42",
   "metadata": {},
   "outputs": [],
   "source": [
    "active_rank = active_persons.rank(method='dense',ascending=False)"
   ]
  },
  {
   "cell_type": "code",
   "execution_count": 15,
   "id": "17486f40",
   "metadata": {},
   "outputs": [
    {
     "data": {
      "text/plain": [
       "Id\n",
       "4445114986    3.0\n",
       "2347167796    3.0\n",
       "4702921684    3.0\n",
       "Name: ActivityDate, dtype: float64"
      ]
     },
     "execution_count": 15,
     "metadata": {},
     "output_type": "execute_result"
    }
   ],
   "source": [
    "active_rank[active_rank == 3]"
   ]
  },
  {
   "cell_type": "raw",
   "id": "72a222fd",
   "metadata": {},
   "source": [
    "SQL:\n",
    "with cte as (\n",
    "select Id, count(ActivityDate) ActivityDateCount, \n",
    "dense_rank() over(order by Count(ActivityDate) desc) RankByActitvity \n",
    "from fitbitdata \n",
    "group by Id)\n",
    "select * from cte where RankByActitvity = 3; "
   ]
  },
  {
   "cell_type": "raw",
   "id": "5a8bf242",
   "metadata": {},
   "source": [
    "Output:\n",
    "\n",
    "# Id\t\tActivityDateCount\tRankByActitvity\n",
    "2347167796\t15\t\t\t\t\t3\n",
    "4445114986\t15\t\t\t\t\t3\n",
    "4702921684\t15\t\t\t\t\t3\n"
   ]
  },
  {
   "cell_type": "markdown",
   "id": "6c32219f",
   "metadata": {},
   "source": [
    "# 11. who is the 5th `most laziest person` available in dataset find it out"
   ]
  },
  {
   "cell_type": "code",
   "execution_count": 16,
   "id": "e35d2753",
   "metadata": {},
   "outputs": [
    {
     "data": {
      "text/plain": [
       "Id\n",
       "4057192912    3178.473684\n",
       "Name: TotalSteps, dtype: float64"
      ]
     },
     "execution_count": 16,
     "metadata": {},
     "output_type": "execute_result"
    }
   ],
   "source": [
    "lazy_persons.iloc[4:5]"
   ]
  },
  {
   "cell_type": "markdown",
   "id": "1cb0ab25",
   "metadata": {},
   "source": [
    "# 12. what is a total accumulative calories burn for a person find out"
   ]
  },
  {
   "cell_type": "code",
   "execution_count": 17,
   "id": "b6c7e6d0",
   "metadata": {},
   "outputs": [
    {
     "data": {
      "text/plain": [
       "Id\n",
       "4388161847    14442\n",
       "6391747486    15868\n",
       "2026352035    16266\n",
       "3977333714    16777\n",
       "8253242879    17556\n",
       "2891001357    18187\n",
       "2320127002    18385\n",
       "3372868164    18603\n",
       "8583815059    19130\n",
       "1844505072    19391\n",
       "2873212765    20349\n",
       "6117666160    20993\n",
       "5553957443    21630\n",
       "6290855005    21656\n",
       "4558609924    21962\n",
       "4319703577    23931\n",
       "6775888955    24523\n",
       "8792009665    24884\n",
       "1624580081    25705\n",
       "7086361926    26124\n",
       "1927972279    27048\n",
       "1644430081    29164\n",
       "6962181067    29249\n",
       "2022484408    29704\n",
       "2347167796    30320\n",
       "7007744171    31525\n",
       "4445114986    31617\n",
       "8053475328    31825\n",
       "1503960366    34128\n",
       "5577150313    36303\n",
       "8378563200    40274\n",
       "8877689391    41414\n",
       "4702921684    42322\n",
       "4057192912    60913\n",
       "4020332650    98412\n",
       "Name: Calories, dtype: int64"
      ]
     },
     "execution_count": 17,
     "metadata": {},
     "output_type": "execute_result"
    }
   ],
   "source": [
    "df.groupby('Id')['Calories'].sum().sort_values()"
   ]
  },
  {
   "cell_type": "code",
   "execution_count": null,
   "id": "273b66cd",
   "metadata": {},
   "outputs": [],
   "source": []
  }
 ],
 "metadata": {
  "kernelspec": {
   "display_name": "Python 3 (ipykernel)",
   "language": "python",
   "name": "python3"
  },
  "language_info": {
   "codemirror_mode": {
    "name": "ipython",
    "version": 3
   },
   "file_extension": ".py",
   "mimetype": "text/x-python",
   "name": "python",
   "nbconvert_exporter": "python",
   "pygments_lexer": "ipython3",
   "version": "3.9.7"
  }
 },
 "nbformat": 4,
 "nbformat_minor": 5
}
