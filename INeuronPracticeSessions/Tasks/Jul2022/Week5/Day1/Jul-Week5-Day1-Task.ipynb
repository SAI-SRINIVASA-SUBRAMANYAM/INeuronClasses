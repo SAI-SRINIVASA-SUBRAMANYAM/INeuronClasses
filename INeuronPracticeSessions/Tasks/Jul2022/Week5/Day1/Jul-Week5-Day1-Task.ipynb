{
 "cells": [
  {
   "cell_type": "raw",
   "id": "513a0efc",
   "metadata": {},
   "source": [
    "1.Find out there avarage rating on weekly basis keep this in a mind that they take two days of leave\n",
    "2.Total working days for each agents \n",
    "3. Total query that you hvae taken \n",
    "4. total Feedback that you have received \n",
    "5. a agent name who have average rating between 3.5 to 4 \n",
    "6. Agent name who have rating lesss then 3.5 \n",
    "7. agent name who have rating more then 4.5 \n",
    "8. how many feedaback agents have received more then 4.5 average\n",
    "9. average weekly response time for each agent \n",
    "10. average weekely resolution time for each agents \n",
    "11. list of all agents name \n",
    "12. percentage of chat on which they have received a feedback \n",
    "13. Total contributation hour for each and every agents weekly basis \n",
    "14. total percentage of active hour for a month\n",
    "\n",
    "sunny.savita@ineuron.ai ,sudhanshu@ineuron.ai"
   ]
  },
  {
   "cell_type": "markdown",
   "id": "d6048ecd",
   "metadata": {},
   "source": [
    "# Imports"
   ]
  },
  {
   "cell_type": "code",
   "execution_count": 1,
   "id": "391c57d9",
   "metadata": {},
   "outputs": [],
   "source": [
    "import pandas as pd"
   ]
  },
  {
   "cell_type": "markdown",
   "id": "404cb679",
   "metadata": {},
   "source": [
    "# Config"
   ]
  },
  {
   "cell_type": "code",
   "execution_count": 2,
   "id": "1cd00c24",
   "metadata": {},
   "outputs": [],
   "source": [
    "agent_performance_report = r'AgentPerformance.xlsx'"
   ]
  },
  {
   "cell_type": "code",
   "execution_count": 3,
   "id": "6fcd9f53",
   "metadata": {},
   "outputs": [],
   "source": [
    "agent_login_report = r'Agent_Login_Report.xls'"
   ]
  },
  {
   "cell_type": "code",
   "execution_count": 4,
   "id": "c9236434",
   "metadata": {},
   "outputs": [],
   "source": [
    "user_weekly_avg_rating_report = r'E:\\ml-dataset\\JUL\\Week5\\Tasks\\AvgRatings.csv'"
   ]
  },
  {
   "cell_type": "code",
   "execution_count": 5,
   "id": "d7494943",
   "metadata": {},
   "outputs": [],
   "source": [
    "user_weekly_avg_response_report = r'E:\\ml-dataset\\JUL\\Week5\\Tasks\\AvgResponse.csv'"
   ]
  },
  {
   "cell_type": "code",
   "execution_count": 6,
   "id": "846539e2",
   "metadata": {},
   "outputs": [],
   "source": [
    "user_weekly_avg_resolution_report = r'E:\\ml-dataset\\JUL\\Week5\\Tasks\\AvgResolution.csv'"
   ]
  },
  {
   "cell_type": "code",
   "execution_count": 7,
   "id": "6f028a23",
   "metadata": {},
   "outputs": [],
   "source": [
    "agent_weekly_contribution_in_hrs = r'E:\\ml-dataset\\JUL\\Week5\\Tasks\\AgentWeeklyContributionInHrs.csv'"
   ]
  },
  {
   "cell_type": "code",
   "execution_count": 8,
   "id": "52ab6aa7",
   "metadata": {},
   "outputs": [],
   "source": [
    "agent_monthly_working_hrs = r'E:\\ml-dataset\\JUL\\Week5\\Tasks\\AgentMonthlyContributionInHrs.csv'"
   ]
  },
  {
   "cell_type": "markdown",
   "id": "fbb326ba",
   "metadata": {},
   "source": [
    "# Global instance delcarations"
   ]
  },
  {
   "cell_type": "code",
   "execution_count": 9,
   "id": "cdb8175e",
   "metadata": {},
   "outputs": [
    {
     "name": "stderr",
     "output_type": "stream",
     "text": [
      "C:\\Users\\subra\\anaconda3\\lib\\site-packages\\openpyxl\\styles\\stylesheet.py:226: UserWarning: Workbook contains no default style, apply openpyxl's default\n",
      "  warn(\"Workbook contains no default style, apply openpyxl's default\")\n"
     ]
    }
   ],
   "source": [
    "ap = pd.read_excel(agent_performance_report, header=1)"
   ]
  },
  {
   "cell_type": "code",
   "execution_count": 10,
   "id": "d37a19f9",
   "metadata": {},
   "outputs": [],
   "source": [
    "ap['Date'] = pd.to_datetime(ap['Date'], format='%Y-%m-%d')\n",
    "ap.drop(ap[ap['Total Chats'] == 0].index, inplace = True)"
   ]
  },
  {
   "cell_type": "code",
   "execution_count": 11,
   "id": "c3ecb687",
   "metadata": {},
   "outputs": [],
   "source": [
    "ap['week_id'] = ap['Date'].dt.strftime('%U')"
   ]
  },
  {
   "cell_type": "code",
   "execution_count": 12,
   "id": "7c97a44a",
   "metadata": {},
   "outputs": [
    {
     "data": {
      "text/plain": [
       "0       38\n",
       "1       15\n",
       "2       30\n",
       "3        4\n",
       "4       11\n",
       "        ..\n",
       "2101    15\n",
       "2102    24\n",
       "2103    46\n",
       "2104     5\n",
       "2105     0\n",
       "Name: Average Response Time, Length: 745, dtype: int64"
      ]
     },
     "execution_count": 12,
     "metadata": {},
     "output_type": "execute_result"
    }
   ],
   "source": [
    "pd.to_datetime(ap['Average Response Time'], format='%H:%M:%S').dt.second"
   ]
  },
  {
   "cell_type": "code",
   "execution_count": 13,
   "id": "a4c29296",
   "metadata": {},
   "outputs": [],
   "source": [
    "ap['avg_resp_time_in_secs'] = pd.to_datetime(ap['Average Response Time'], format='%H:%M:%S').dt.second"
   ]
  },
  {
   "cell_type": "code",
   "execution_count": 14,
   "id": "034e6db9",
   "metadata": {},
   "outputs": [],
   "source": [
    "ap['avg_resp_time_in_mins'] = pd.to_datetime(ap['Average Response Time'], format='%H:%M:%S').dt.minute*60"
   ]
  },
  {
   "cell_type": "code",
   "execution_count": 15,
   "id": "09e068d1",
   "metadata": {},
   "outputs": [],
   "source": [
    "ap['avg_resp_time_in_hrs'] = pd.to_datetime(ap['Average Response Time'], format='%H:%M:%S').dt.hour*60*60"
   ]
  },
  {
   "cell_type": "code",
   "execution_count": 16,
   "id": "2a070504",
   "metadata": {},
   "outputs": [],
   "source": [
    "ap['total_avg_resp_time_in_secs'] = ap['avg_resp_time_in_secs'] + ap['avg_resp_time_in_mins'] + ap['avg_resp_time_in_hrs']"
   ]
  },
  {
   "cell_type": "code",
   "execution_count": 17,
   "id": "24d8e279",
   "metadata": {},
   "outputs": [],
   "source": [
    "ap['avg_resl_time_in_secs'] = pd.to_datetime(ap['Average Resolution Time'], format='%H:%M:%S').dt.second"
   ]
  },
  {
   "cell_type": "code",
   "execution_count": 18,
   "id": "c10ae7b3",
   "metadata": {},
   "outputs": [],
   "source": [
    "ap['avg_resl_time_in_mins'] = pd.to_datetime(ap['Average Resolution Time'], format='%H:%M:%S').dt.minute*60"
   ]
  },
  {
   "cell_type": "code",
   "execution_count": 19,
   "id": "92b5c258",
   "metadata": {},
   "outputs": [],
   "source": [
    "ap['avg_resl_time_in_hrs'] = pd.to_datetime(ap['Average Resolution Time'], format='%H:%M:%S').dt.hour*60*60"
   ]
  },
  {
   "cell_type": "code",
   "execution_count": 20,
   "id": "334254bd",
   "metadata": {},
   "outputs": [],
   "source": [
    "ap['total_avg_resl_time_in_secs'] = ap['avg_resl_time_in_secs'] + ap['avg_resl_time_in_mins'] + ap['avg_resl_time_in_hrs']"
   ]
  },
  {
   "cell_type": "raw",
   "id": "1ed2952b",
   "metadata": {},
   "source": [
    "========================================================================================================================="
   ]
  },
  {
   "cell_type": "code",
   "execution_count": 21,
   "id": "e2fcb3f1",
   "metadata": {},
   "outputs": [],
   "source": [
    "al = pd.read_excel(agent_login_report, header=2)"
   ]
  },
  {
   "cell_type": "code",
   "execution_count": 22,
   "id": "80a0cbd9",
   "metadata": {},
   "outputs": [],
   "source": [
    "al['duration_in_hours'] = pd.to_datetime(al['Duration'], format='%H:%M:%S').dt.hour*60*60"
   ]
  },
  {
   "cell_type": "code",
   "execution_count": 23,
   "id": "db52b348",
   "metadata": {},
   "outputs": [],
   "source": [
    "al['duration_in_mins'] = pd.to_datetime(al['Duration'], format='%H:%M:%S').dt.minute*60"
   ]
  },
  {
   "cell_type": "code",
   "execution_count": 24,
   "id": "c8134a5c",
   "metadata": {},
   "outputs": [],
   "source": [
    "al['duration_in_secs'] = pd.to_datetime(al['Duration'], format='%H:%M:%S').dt.second"
   ]
  },
  {
   "cell_type": "code",
   "execution_count": 25,
   "id": "5d0c7765",
   "metadata": {},
   "outputs": [],
   "source": [
    "al['total_duration_in_secs'] = al['duration_in_hours'] + al['duration_in_mins'] + al['duration_in_secs']"
   ]
  },
  {
   "cell_type": "code",
   "execution_count": 26,
   "id": "fca65fd7",
   "metadata": {},
   "outputs": [],
   "source": [
    "al['Date'] = pd.to_datetime(al['Date'], format=\"%d-%b-%y\")"
   ]
  },
  {
   "cell_type": "code",
   "execution_count": 27,
   "id": "9d7577eb",
   "metadata": {},
   "outputs": [],
   "source": [
    "al['week_id'] = al['Date'].dt.strftime('%U')"
   ]
  },
  {
   "cell_type": "code",
   "execution_count": 28,
   "id": "9e07919a",
   "metadata": {},
   "outputs": [
    {
     "data": {
      "text/html": [
       "<div>\n",
       "<style scoped>\n",
       "    .dataframe tbody tr th:only-of-type {\n",
       "        vertical-align: middle;\n",
       "    }\n",
       "\n",
       "    .dataframe tbody tr th {\n",
       "        vertical-align: top;\n",
       "    }\n",
       "\n",
       "    .dataframe thead th {\n",
       "        text-align: right;\n",
       "    }\n",
       "</style>\n",
       "<table border=\"1\" class=\"dataframe\">\n",
       "  <thead>\n",
       "    <tr style=\"text-align: right;\">\n",
       "      <th></th>\n",
       "      <th>SL No</th>\n",
       "      <th>Agent</th>\n",
       "      <th>Date</th>\n",
       "      <th>Login Time</th>\n",
       "      <th>Logout Time</th>\n",
       "      <th>Duration</th>\n",
       "      <th>duration_in_hours</th>\n",
       "      <th>duration_in_mins</th>\n",
       "      <th>duration_in_secs</th>\n",
       "      <th>total_duration_in_secs</th>\n",
       "      <th>week_id</th>\n",
       "    </tr>\n",
       "  </thead>\n",
       "  <tbody>\n",
       "    <tr>\n",
       "      <th>0</th>\n",
       "      <td>1</td>\n",
       "      <td>Shivananda Sonwane</td>\n",
       "      <td>2022-07-30</td>\n",
       "      <td>03:35:29 PM</td>\n",
       "      <td>05:39:39 PM</td>\n",
       "      <td>02:04:10</td>\n",
       "      <td>7200</td>\n",
       "      <td>240</td>\n",
       "      <td>10</td>\n",
       "      <td>7450</td>\n",
       "      <td>30</td>\n",
       "    </tr>\n",
       "    <tr>\n",
       "      <th>1</th>\n",
       "      <td>2</td>\n",
       "      <td>Khushboo Priya</td>\n",
       "      <td>2022-07-30</td>\n",
       "      <td>03:06:59 PM</td>\n",
       "      <td>03:07:16 PM</td>\n",
       "      <td>00:00:17</td>\n",
       "      <td>0</td>\n",
       "      <td>0</td>\n",
       "      <td>17</td>\n",
       "      <td>17</td>\n",
       "      <td>30</td>\n",
       "    </tr>\n",
       "    <tr>\n",
       "      <th>2</th>\n",
       "      <td>3</td>\n",
       "      <td>Nandani Gupta</td>\n",
       "      <td>2022-07-30</td>\n",
       "      <td>03:04:24 PM</td>\n",
       "      <td>05:31:07 PM</td>\n",
       "      <td>02:26:42</td>\n",
       "      <td>7200</td>\n",
       "      <td>1560</td>\n",
       "      <td>42</td>\n",
       "      <td>8802</td>\n",
       "      <td>30</td>\n",
       "    </tr>\n",
       "    <tr>\n",
       "      <th>3</th>\n",
       "      <td>4</td>\n",
       "      <td>Hrisikesh Neogi</td>\n",
       "      <td>2022-07-30</td>\n",
       "      <td>02:34:29 PM</td>\n",
       "      <td>03:19:35 PM</td>\n",
       "      <td>00:45:06</td>\n",
       "      <td>0</td>\n",
       "      <td>2700</td>\n",
       "      <td>6</td>\n",
       "      <td>2706</td>\n",
       "      <td>30</td>\n",
       "    </tr>\n",
       "    <tr>\n",
       "      <th>4</th>\n",
       "      <td>5</td>\n",
       "      <td>Mukesh</td>\n",
       "      <td>2022-07-30</td>\n",
       "      <td>02:03:15 PM</td>\n",
       "      <td>03:11:52 PM</td>\n",
       "      <td>01:08:36</td>\n",
       "      <td>3600</td>\n",
       "      <td>480</td>\n",
       "      <td>36</td>\n",
       "      <td>4116</td>\n",
       "      <td>30</td>\n",
       "    </tr>\n",
       "    <tr>\n",
       "      <th>...</th>\n",
       "      <td>...</td>\n",
       "      <td>...</td>\n",
       "      <td>...</td>\n",
       "      <td>...</td>\n",
       "      <td>...</td>\n",
       "      <td>...</td>\n",
       "      <td>...</td>\n",
       "      <td>...</td>\n",
       "      <td>...</td>\n",
       "      <td>...</td>\n",
       "      <td>...</td>\n",
       "    </tr>\n",
       "    <tr>\n",
       "      <th>995</th>\n",
       "      <td>996</td>\n",
       "      <td>Manjunatha A</td>\n",
       "      <td>2022-07-20</td>\n",
       "      <td>09:03:51 AM</td>\n",
       "      <td>03:02:28 PM</td>\n",
       "      <td>05:58:37</td>\n",
       "      <td>18000</td>\n",
       "      <td>3480</td>\n",
       "      <td>37</td>\n",
       "      <td>21517</td>\n",
       "      <td>29</td>\n",
       "    </tr>\n",
       "    <tr>\n",
       "      <th>996</th>\n",
       "      <td>997</td>\n",
       "      <td>Bharath</td>\n",
       "      <td>2022-07-20</td>\n",
       "      <td>09:00:49 AM</td>\n",
       "      <td>03:01:32 PM</td>\n",
       "      <td>06:00:43</td>\n",
       "      <td>21600</td>\n",
       "      <td>0</td>\n",
       "      <td>43</td>\n",
       "      <td>21643</td>\n",
       "      <td>29</td>\n",
       "    </tr>\n",
       "    <tr>\n",
       "      <th>997</th>\n",
       "      <td>998</td>\n",
       "      <td>Khushboo Priya</td>\n",
       "      <td>2022-07-20</td>\n",
       "      <td>08:59:20 AM</td>\n",
       "      <td>02:26:55 PM</td>\n",
       "      <td>05:27:34</td>\n",
       "      <td>18000</td>\n",
       "      <td>1620</td>\n",
       "      <td>34</td>\n",
       "      <td>19654</td>\n",
       "      <td>29</td>\n",
       "    </tr>\n",
       "    <tr>\n",
       "      <th>998</th>\n",
       "      <td>999</td>\n",
       "      <td>Nishtha Jain</td>\n",
       "      <td>2022-07-20</td>\n",
       "      <td>08:43:55 AM</td>\n",
       "      <td>02:00:33 PM</td>\n",
       "      <td>05:16:38</td>\n",
       "      <td>18000</td>\n",
       "      <td>960</td>\n",
       "      <td>38</td>\n",
       "      <td>18998</td>\n",
       "      <td>29</td>\n",
       "    </tr>\n",
       "    <tr>\n",
       "      <th>999</th>\n",
       "      <td>1000</td>\n",
       "      <td>Tarun</td>\n",
       "      <td>2022-07-01</td>\n",
       "      <td>01:52:47 AM</td>\n",
       "      <td>12:01:07 PM</td>\n",
       "      <td>12:08:20</td>\n",
       "      <td>43200</td>\n",
       "      <td>480</td>\n",
       "      <td>20</td>\n",
       "      <td>43700</td>\n",
       "      <td>26</td>\n",
       "    </tr>\n",
       "  </tbody>\n",
       "</table>\n",
       "<p>1000 rows × 11 columns</p>\n",
       "</div>"
      ],
      "text/plain": [
       "     SL No               Agent       Date   Login Time  Logout Time  Duration  \\\n",
       "0        1  Shivananda Sonwane 2022-07-30  03:35:29 PM  05:39:39 PM  02:04:10   \n",
       "1        2      Khushboo Priya 2022-07-30  03:06:59 PM  03:07:16 PM  00:00:17   \n",
       "2        3       Nandani Gupta 2022-07-30  03:04:24 PM  05:31:07 PM  02:26:42   \n",
       "3        4     Hrisikesh Neogi 2022-07-30  02:34:29 PM  03:19:35 PM  00:45:06   \n",
       "4        5             Mukesh  2022-07-30  02:03:15 PM  03:11:52 PM  01:08:36   \n",
       "..     ...                 ...        ...          ...          ...       ...   \n",
       "995    996        Manjunatha A 2022-07-20  09:03:51 AM  03:02:28 PM  05:58:37   \n",
       "996    997            Bharath  2022-07-20  09:00:49 AM  03:01:32 PM  06:00:43   \n",
       "997    998      Khushboo Priya 2022-07-20  08:59:20 AM  02:26:55 PM  05:27:34   \n",
       "998    999        Nishtha Jain 2022-07-20  08:43:55 AM  02:00:33 PM  05:16:38   \n",
       "999   1000              Tarun  2022-07-01  01:52:47 AM  12:01:07 PM  12:08:20   \n",
       "\n",
       "     duration_in_hours  duration_in_mins  duration_in_secs  \\\n",
       "0                 7200               240                10   \n",
       "1                    0                 0                17   \n",
       "2                 7200              1560                42   \n",
       "3                    0              2700                 6   \n",
       "4                 3600               480                36   \n",
       "..                 ...               ...               ...   \n",
       "995              18000              3480                37   \n",
       "996              21600                 0                43   \n",
       "997              18000              1620                34   \n",
       "998              18000               960                38   \n",
       "999              43200               480                20   \n",
       "\n",
       "     total_duration_in_secs week_id  \n",
       "0                      7450      30  \n",
       "1                        17      30  \n",
       "2                      8802      30  \n",
       "3                      2706      30  \n",
       "4                      4116      30  \n",
       "..                      ...     ...  \n",
       "995                   21517      29  \n",
       "996                   21643      29  \n",
       "997                   19654      29  \n",
       "998                   18998      29  \n",
       "999                   43700      26  \n",
       "\n",
       "[1000 rows x 11 columns]"
      ]
     },
     "execution_count": 28,
     "metadata": {},
     "output_type": "execute_result"
    }
   ],
   "source": [
    "al"
   ]
  },
  {
   "cell_type": "markdown",
   "id": "5de89520",
   "metadata": {},
   "source": [
    "# Find out there avarage rating on weekly basis keep this in a mind that they take two days of leave"
   ]
  },
  {
   "cell_type": "code",
   "execution_count": 29,
   "id": "bd592c55",
   "metadata": {},
   "outputs": [],
   "source": [
    "avg_ratings = ap.groupby(['Agent Name', 'week_id'])['Average Rating'].mean()"
   ]
  },
  {
   "cell_type": "code",
   "execution_count": 30,
   "id": "6b206087",
   "metadata": {},
   "outputs": [
    {
     "data": {
      "text/plain": [
       "Agent Name     week_id\n",
       "Aditya Shinde  26         3.540000\n",
       "               27         4.456667\n",
       "               28         4.746000\n",
       "Aditya_iot     27         4.315000\n",
       "               28         4.100000\n",
       "                            ...   \n",
       "Wasim          30         4.298000\n",
       "Zeeshan        27         4.575000\n",
       "               28         4.128000\n",
       "               29         4.352500\n",
       "               30         4.282000\n",
       "Name: Average Rating, Length: 183, dtype: float64"
      ]
     },
     "execution_count": 30,
     "metadata": {},
     "output_type": "execute_result"
    }
   ],
   "source": [
    "avg_ratings"
   ]
  },
  {
   "cell_type": "code",
   "execution_count": 31,
   "id": "0300efba",
   "metadata": {},
   "outputs": [],
   "source": [
    "avg_ratings[avg_ratings != 0].to_csv(user_weekly_avg_rating_report)"
   ]
  },
  {
   "cell_type": "raw",
   "id": "44b93b9e",
   "metadata": {},
   "source": [
    "Proof:\n",
    "Agent Jaydeep Dixit's, July 4th to 9th Sum of \"Average rating\" is 22.89 and Mean of \"Average rating\" is 22.89/5 = 4.578\n",
    "Agent Madhulika G's, July 1st to 3rd Sum of \"Average rating\" is 14.5 and Mean of \"Average rating\" is 14.5/3 = 4.833\n",
    "Agent Prerna Singh's, July 25th to 30th Sum of \"Average rating\" is 21.25 and Mean of \"Average rating\" is 21.25/5 = 4.25"
   ]
  },
  {
   "cell_type": "code",
   "execution_count": 32,
   "id": "eeec9046",
   "metadata": {},
   "outputs": [
    {
     "data": {
      "text/plain": [
       "Agent Name     week_id\n",
       "Aditya Shinde  26         3.540000\n",
       "               27         4.456667\n",
       "               28         4.746000\n",
       "Aditya_iot     27         4.315000\n",
       "               28         4.100000\n",
       "                            ...   \n",
       "Wasim          30         4.298000\n",
       "Zeeshan        27         4.575000\n",
       "               28         4.128000\n",
       "               29         4.352500\n",
       "               30         4.282000\n",
       "Name: Average Rating, Length: 183, dtype: float64"
      ]
     },
     "execution_count": 32,
     "metadata": {},
     "output_type": "execute_result"
    }
   ],
   "source": [
    "avg_ratings"
   ]
  },
  {
   "cell_type": "markdown",
   "id": "88885f1c",
   "metadata": {},
   "source": [
    "# Total working days for each agents"
   ]
  },
  {
   "cell_type": "code",
   "execution_count": 33,
   "id": "0cb2e21a",
   "metadata": {},
   "outputs": [
    {
     "data": {
      "text/plain": [
       "Agent\n",
       "Aditya Shinde              1\n",
       "Aditya_iot                 8\n",
       "Amersh                     2\n",
       "Ameya Jain                 7\n",
       "Ankitjha                   2\n",
       "Anurag Tiwari             10\n",
       "Aravind                    7\n",
       "Ayushi Mishra              9\n",
       "Bharath                    8\n",
       "Boktiar Ahmed Bappy        9\n",
       "Chaitra K Hiremath         7\n",
       "Deepranjan Gupta          10\n",
       "Dibyanshu                  9\n",
       "Harikrishnan Shaji         9\n",
       "Hrisikesh Neogi            9\n",
       "Hyder Abbas                2\n",
       "Ineuron Intelligence       1\n",
       "Ishawant Kumar            11\n",
       "Jawala Prakash             9\n",
       "Jaydeep Dixit              7\n",
       "Khushboo Priya             8\n",
       "Madhulika G                8\n",
       "Mahesh Sarade              8\n",
       "Maitry                     5\n",
       "Manjunatha A               7\n",
       "Mithun S                   8\n",
       "Mukesh                     2\n",
       "Muskan Garg                6\n",
       "Nandani Gupta              9\n",
       "Nishtha Jain               8\n",
       "Nitin M                    1\n",
       "Prabir Kumar Satapathy     7\n",
       "Prateek _iot              11\n",
       "Prerna Singh               9\n",
       "Rishav Dash                7\n",
       "Saikumarreddy N            7\n",
       "Sanjeev Kumar              9\n",
       "Saurabh Shukla             4\n",
       "Shiva Srivastava           8\n",
       "Shivan K                   8\n",
       "Shivananda Sonwane        10\n",
       "Shubham Sharma            11\n",
       "Sowmiya Sivakumar          8\n",
       "Sudhanshu Kumar            6\n",
       "Suraj S Bilgi              2\n",
       "Swati                      4\n",
       "Tarun                      1\n",
       "Wasim                      9\n",
       "Zeeshan                    9\n",
       "Name: Date, dtype: int64"
      ]
     },
     "execution_count": 33,
     "metadata": {},
     "output_type": "execute_result"
    }
   ],
   "source": [
    "al.groupby('Agent')['Date'].nunique()"
   ]
  },
  {
   "cell_type": "markdown",
   "id": "451e7966",
   "metadata": {},
   "source": [
    "# Total query that you hvae taken"
   ]
  },
  {
   "cell_type": "raw",
   "id": "cf7fa233",
   "metadata": {},
   "source": [
    "Query isn't clear or I missed some details"
   ]
  },
  {
   "cell_type": "markdown",
   "id": "86b95458",
   "metadata": {},
   "source": [
    "# Total Feedback that you have received"
   ]
  },
  {
   "cell_type": "code",
   "execution_count": 34,
   "id": "9f06b277",
   "metadata": {},
   "outputs": [
    {
     "data": {
      "text/plain": [
       "Agent Name\n",
       "Samprit                     0\n",
       "Hitesh Choudhary            0\n",
       "Dibyanshu                   0\n",
       "Sudhanshu Kumar             2\n",
       "Maneesh                     3\n",
       "Ankitjha                    3\n",
       "Anurag Tiwari               3\n",
       "Shivan_S                    4\n",
       "Mahak                       5\n",
       "Mukesh Rao                  5\n",
       "Tarun                       6\n",
       "Saurabh Shukla              8\n",
       "Ashad Nasim                 9\n",
       "Suraj S Bilgi              15\n",
       "Mukesh                     17\n",
       "Sandipan Saha              18\n",
       "Vivek                      20\n",
       "Chaitra K Hiremath         37\n",
       "Muskan Garg                37\n",
       "Anirudh                    39\n",
       "Shiva Srivastava           46\n",
       "Jayant Kumar               70\n",
       "Prateek _iot              107\n",
       "Aditya_iot                131\n",
       "Sowmiya Sivakumar         141\n",
       "Aditya Shinde             153\n",
       "Ishawant Kumar            202\n",
       "Mahesh Sarade             216\n",
       "Prabir Kumar Satapathy    222\n",
       "Ameya Jain                228\n",
       "Harikrishnan Shaji        231\n",
       "Aravind                   233\n",
       "Prerna Singh              235\n",
       "Shivan K                  243\n",
       "Bharath                   247\n",
       "Jawala Prakash            250\n",
       "Manjunatha A              254\n",
       "Nishtha Jain              257\n",
       "Shivananda Sonwane        263\n",
       "Rishav Dash               264\n",
       "Madhulika G               281\n",
       "Wasim                     284\n",
       "Khushboo Priya            289\n",
       "Saikumarreddy N           290\n",
       "Shubham Sharma            300\n",
       "Swati                     302\n",
       "Jaydeep Dixit             305\n",
       "Nandani Gupta             308\n",
       "Sanjeev Kumar             311\n",
       "Boktiar Ahmed Bappy       311\n",
       "Deepranjan Gupta          312\n",
       "Ayushi Mishra             329\n",
       "Zeeshan                   335\n",
       "Maitry                    347\n",
       "Mithun S                  364\n",
       "Hrisikesh Neogi           367\n",
       "Name: Total Feedback, dtype: int64"
      ]
     },
     "execution_count": 34,
     "metadata": {},
     "output_type": "execute_result"
    }
   ],
   "source": [
    "ap.groupby('Agent Name')['Total Feedback'].sum().sort_values()"
   ]
  },
  {
   "cell_type": "markdown",
   "id": "08528a56",
   "metadata": {},
   "source": [
    "# A agent name who have average rating between 3.5 to 4"
   ]
  },
  {
   "cell_type": "code",
   "execution_count": 35,
   "id": "a21a36e7",
   "metadata": {},
   "outputs": [],
   "source": [
    "unq_agents=ap[(ap['Average Rating'] >= 3.5) & (ap['Average Rating'] <= 4.5)]['Agent Name']"
   ]
  },
  {
   "cell_type": "code",
   "execution_count": 36,
   "id": "1f07e9c1",
   "metadata": {},
   "outputs": [
    {
     "name": "stderr",
     "output_type": "stream",
     "text": [
      "C:\\Users\\subra\\anaconda3\\lib\\site-packages\\pandas\\core\\series.py:2136: SettingWithCopyWarning: \n",
      "A value is trying to be set on a copy of a slice from a DataFrame\n",
      "\n",
      "See the caveats in the documentation: https://pandas.pydata.org/pandas-docs/stable/user_guide/indexing.html#returning-a-view-versus-a-copy\n",
      "  self._update_inplace(result)\n"
     ]
    }
   ],
   "source": [
    "unq_agents.drop_duplicates(inplace=True)"
   ]
  },
  {
   "cell_type": "code",
   "execution_count": 37,
   "id": "8f1e9f3a",
   "metadata": {},
   "outputs": [
    {
     "data": {
      "text/plain": [
       "array(['Aditya Shinde', 'Aditya_iot ', 'Ameya Jain', 'Anirudh ',\n",
       "       'Anurag Tiwari', 'Aravind ', 'Ashad Nasim', 'Ayushi Mishra',\n",
       "       'Bharath ', 'Boktiar Ahmed Bappy', 'Chaitra K Hiremath',\n",
       "       'Deepranjan Gupta', 'Harikrishnan Shaji', 'Hrisikesh Neogi',\n",
       "       'Ishawant Kumar', 'Jawala Prakash', 'Jayant Kumar',\n",
       "       'Jaydeep Dixit', 'Khushboo Priya', 'Madhulika G', 'Mahesh Sarade',\n",
       "       'Maitry ', 'Maneesh ', 'Manjunatha A', 'Mithun S', 'Muskan Garg',\n",
       "       'Nandani Gupta', 'Nishtha Jain', 'Prabir Kumar Satapathy',\n",
       "       'Prateek _iot ', 'Prerna Singh', 'Rishav Dash', 'Saikumarreddy N',\n",
       "       'Sandipan Saha', 'Sanjeev Kumar', 'Saurabh Shukla',\n",
       "       'Shiva Srivastava', 'Shivan K', 'Shivan_S ', 'Shivananda Sonwane',\n",
       "       'Shubham Sharma', 'Sowmiya Sivakumar', 'Suraj S Bilgi', 'Swati ',\n",
       "       'Wasim ', 'Zeeshan '], dtype=object)"
      ]
     },
     "execution_count": 37,
     "metadata": {},
     "output_type": "execute_result"
    }
   ],
   "source": [
    "unq_agents.sort_values().values"
   ]
  },
  {
   "cell_type": "markdown",
   "id": "07db4e86",
   "metadata": {},
   "source": [
    "# Agent name who have rating lesss then 3.5"
   ]
  },
  {
   "cell_type": "code",
   "execution_count": 38,
   "id": "097146af",
   "metadata": {},
   "outputs": [],
   "source": [
    "unq_agents_2 = ap[ap['Average Rating'] < 3.5]['Agent Name']\n",
    "unq_agents_2.drop_duplicates(inplace=True)"
   ]
  },
  {
   "cell_type": "code",
   "execution_count": 39,
   "id": "8df8a6a3",
   "metadata": {},
   "outputs": [
    {
     "data": {
      "text/plain": [
       "array(['Aditya_iot ', 'Anirudh ', 'Ankitjha ', 'Anurag Tiwari',\n",
       "       'Ashad Nasim', 'Ayushi Mishra', 'Boktiar Ahmed Bappy',\n",
       "       'Chaitra K Hiremath', 'Deepranjan Gupta', 'Dibyanshu ',\n",
       "       'Harikrishnan Shaji', 'Hitesh Choudhary', 'Ishawant Kumar',\n",
       "       'Jawala Prakash', 'Jayant Kumar', 'Khushboo Priya', 'Mahak ',\n",
       "       'Mahesh Sarade', 'Maneesh ', 'Manjunatha A', 'Mithun S',\n",
       "       'Mukesh Rao ', 'Nandani Gupta', 'Nishtha Jain', 'Prateek _iot ',\n",
       "       'Prerna Singh', 'Rishav Dash', 'Samprit ', 'Sanjeev Kumar',\n",
       "       'Saurabh Shukla', 'Shiva Srivastava', 'Shivan K',\n",
       "       'Shivananda Sonwane', 'Sowmiya Sivakumar', 'Tarun ', 'Vivek '],\n",
       "      dtype=object)"
      ]
     },
     "execution_count": 39,
     "metadata": {},
     "output_type": "execute_result"
    }
   ],
   "source": [
    "unq_agents_2.sort_values().values"
   ]
  },
  {
   "cell_type": "markdown",
   "id": "61c50135",
   "metadata": {},
   "source": [
    "# agent name who have rating more then 4.5"
   ]
  },
  {
   "cell_type": "code",
   "execution_count": 40,
   "id": "f891f9c7",
   "metadata": {},
   "outputs": [],
   "source": [
    "unq_agents_3 = ap[ap['Average Rating'] > 4.5]['Agent Name']\n",
    "unq_agents_3.drop_duplicates(inplace=True)"
   ]
  },
  {
   "cell_type": "code",
   "execution_count": 41,
   "id": "264e08c3",
   "metadata": {},
   "outputs": [
    {
     "data": {
      "text/plain": [
       "array(['Aditya Shinde', 'Aditya_iot ', 'Ameya Jain', 'Anirudh ',\n",
       "       'Ankitjha ', 'Aravind ', 'Ayushi Mishra', 'Bharath ',\n",
       "       'Boktiar Ahmed Bappy', 'Chaitra K Hiremath', 'Deepranjan Gupta',\n",
       "       'Harikrishnan Shaji', 'Hrisikesh Neogi', 'Ishawant Kumar',\n",
       "       'Jawala Prakash', 'Jayant Kumar', 'Jaydeep Dixit',\n",
       "       'Khushboo Priya', 'Madhulika G', 'Mahesh Sarade', 'Maitry ',\n",
       "       'Manjunatha A', 'Mithun S', 'Mukesh ', 'Mukesh Rao ',\n",
       "       'Muskan Garg', 'Nandani Gupta', 'Nishtha Jain',\n",
       "       'Prabir Kumar Satapathy', 'Prateek _iot ', 'Prerna Singh',\n",
       "       'Rishav Dash', 'Saikumarreddy N', 'Sandipan Saha', 'Sanjeev Kumar',\n",
       "       'Saurabh Shukla', 'Shiva Srivastava', 'Shivan K',\n",
       "       'Shivananda Sonwane', 'Shubham Sharma', 'Sowmiya Sivakumar',\n",
       "       'Sudhanshu Kumar', 'Suraj S Bilgi', 'Swati ', 'Vivek ', 'Wasim ',\n",
       "       'Zeeshan '], dtype=object)"
      ]
     },
     "execution_count": 41,
     "metadata": {},
     "output_type": "execute_result"
    }
   ],
   "source": [
    "unq_agents_3.sort_values().values"
   ]
  },
  {
   "cell_type": "markdown",
   "id": "b6e5c7bc",
   "metadata": {},
   "source": [
    "# how many feedaback agents have received more then 4.5 average"
   ]
  },
  {
   "cell_type": "code",
   "execution_count": 42,
   "id": "a25cfdba",
   "metadata": {},
   "outputs": [],
   "source": [
    "awesome_performer = ap.groupby(['Agent Name'])['Average Rating'].mean()"
   ]
  },
  {
   "cell_type": "code",
   "execution_count": 43,
   "id": "2f480b4f",
   "metadata": {},
   "outputs": [
    {
     "data": {
      "text/plain": [
       "Agent Name\n",
       "Sudhanshu Kumar       5.000000\n",
       "Bharath               4.711053\n",
       "Suraj S Bilgi         4.680000\n",
       "Aravind               4.674286\n",
       "Mukesh                4.645000\n",
       "Shubham Sharma        4.607619\n",
       "Saikumarreddy N       4.570000\n",
       "Shivananda Sonwane    4.535000\n",
       "Jaydeep Dixit         4.524286\n",
       "Aditya Shinde         4.500833\n",
       "Wasim                 4.500000\n",
       "Name: Average Rating, dtype: float64"
      ]
     },
     "execution_count": 43,
     "metadata": {},
     "output_type": "execute_result"
    }
   ],
   "source": [
    "awesome_performer[awesome_performer >= 4.5].sort_values(ascending=False)"
   ]
  },
  {
   "cell_type": "markdown",
   "id": "39083683",
   "metadata": {},
   "source": [
    "# average weekly response time for each agent"
   ]
  },
  {
   "cell_type": "code",
   "execution_count": 44,
   "id": "8b002ffb",
   "metadata": {},
   "outputs": [],
   "source": [
    "weekly_avg_time = ap.groupby(['Agent Name', 'week_id'])['total_avg_resp_time_in_secs'].mean()"
   ]
  },
  {
   "cell_type": "code",
   "execution_count": 45,
   "id": "f78d6208",
   "metadata": {},
   "outputs": [
    {
     "data": {
      "text/plain": [
       "Agent Name     week_id\n",
       "Aditya Shinde  26          86.00\n",
       "               27          68.50\n",
       "               28          79.00\n",
       "Aditya_iot     27          70.50\n",
       "               28          72.80\n",
       "                           ...  \n",
       "Wasim          30          60.60\n",
       "Zeeshan        27          82.50\n",
       "               28         172.80\n",
       "               29          89.75\n",
       "               30          92.80\n",
       "Name: total_avg_resp_time_in_secs, Length: 183, dtype: float64"
      ]
     },
     "execution_count": 45,
     "metadata": {},
     "output_type": "execute_result"
    }
   ],
   "source": [
    "weekly_avg_time"
   ]
  },
  {
   "cell_type": "code",
   "execution_count": 46,
   "id": "8ad44fe5",
   "metadata": {},
   "outputs": [],
   "source": [
    "weekly_avg_time.to_csv(user_weekly_avg_response_report)"
   ]
  },
  {
   "cell_type": "markdown",
   "id": "e714126a",
   "metadata": {},
   "source": [
    "# average weekely resolution time for each agents"
   ]
  },
  {
   "cell_type": "code",
   "execution_count": 47,
   "id": "bc38add8",
   "metadata": {},
   "outputs": [],
   "source": [
    "weekly_avg_resl_time = ap.groupby(['Agent Name', 'week_id'])['total_avg_resl_time_in_secs'].mean()/60"
   ]
  },
  {
   "cell_type": "code",
   "execution_count": 48,
   "id": "fd4a098b",
   "metadata": {},
   "outputs": [
    {
     "data": {
      "text/plain": [
       "Agent Name     week_id\n",
       "Aditya Shinde  26         19.866667\n",
       "               27         21.988889\n",
       "               28         31.703333\n",
       "Aditya_iot     27         18.075000\n",
       "               28         21.256667\n",
       "                            ...    \n",
       "Wasim          30         21.096667\n",
       "Zeeshan        27         18.841667\n",
       "               28         22.966667\n",
       "               29         18.150000\n",
       "               30         19.483333\n",
       "Name: total_avg_resl_time_in_secs, Length: 183, dtype: float64"
      ]
     },
     "execution_count": 48,
     "metadata": {},
     "output_type": "execute_result"
    }
   ],
   "source": [
    "weekly_avg_resl_time"
   ]
  },
  {
   "cell_type": "code",
   "execution_count": 49,
   "id": "fba616b5",
   "metadata": {},
   "outputs": [],
   "source": [
    "weekly_avg_resl_time.to_csv(user_weekly_avg_resolution_report)"
   ]
  },
  {
   "cell_type": "markdown",
   "id": "b7a9a76c",
   "metadata": {},
   "source": [
    "# list of all agents name"
   ]
  },
  {
   "cell_type": "code",
   "execution_count": 50,
   "id": "b8265b26",
   "metadata": {},
   "outputs": [
    {
     "data": {
      "text/plain": [
       "array(['Shivananda Sonwane', 'Khushboo Priya', 'Nandani Gupta',\n",
       "       'Hrisikesh Neogi', 'Mukesh ', 'Sowmiya Sivakumar', 'Manjunatha A',\n",
       "       'Harikrishnan Shaji', 'Suraj S Bilgi', 'Shivan K', 'Anurag Tiwari',\n",
       "       'Ishawant Kumar', 'Shubham Sharma', 'Prerna Singh', 'Nishtha Jain',\n",
       "       'Prateek _iot ', 'Mithun S', 'Madhulika G', 'Boktiar Ahmed Bappy',\n",
       "       'Jawala Prakash', 'Dibyanshu ', 'Deepranjan Gupta',\n",
       "       'Jaydeep Dixit', 'Ayushi Mishra', 'Mahesh Sarade', 'Muskan Garg',\n",
       "       'Chaitra K Hiremath', 'Shiva Srivastava', 'Aditya_iot ',\n",
       "       'Prabir Kumar Satapathy', 'Sanjeev Kumar', 'Zeeshan ',\n",
       "       'Rishav Dash', 'Wasim ', 'Bharath ', 'Ameya Jain',\n",
       "       'Saikumarreddy N', 'Aravind ', 'Amersh ', 'Sudhanshu Kumar',\n",
       "       'Ankitjha ', 'Maitry ', 'Aditya Shinde', 'Hyder Abbas', 'Swati ',\n",
       "       'Saurabh Shukla', 'Nitin M', 'Ineuron Intelligence ', 'Tarun '],\n",
       "      dtype=object)"
      ]
     },
     "execution_count": 50,
     "metadata": {},
     "output_type": "execute_result"
    }
   ],
   "source": [
    "al['Agent'].unique()"
   ]
  },
  {
   "cell_type": "markdown",
   "id": "4b5afa4a",
   "metadata": {},
   "source": [
    "# percentage of chat on which they have received a feedback"
   ]
  },
  {
   "cell_type": "code",
   "execution_count": 51,
   "id": "467a0c1f",
   "metadata": {},
   "outputs": [],
   "source": [
    "ap['chats_as_feedback_in_perc'] = ap['Total Feedback']/ap['Total Chats'] * 100"
   ]
  },
  {
   "cell_type": "code",
   "execution_count": 52,
   "id": "4d980fa6",
   "metadata": {},
   "outputs": [
    {
     "data": {
      "text/html": [
       "<div>\n",
       "<style scoped>\n",
       "    .dataframe tbody tr th:only-of-type {\n",
       "        vertical-align: middle;\n",
       "    }\n",
       "\n",
       "    .dataframe tbody tr th {\n",
       "        vertical-align: top;\n",
       "    }\n",
       "\n",
       "    .dataframe thead th {\n",
       "        text-align: right;\n",
       "    }\n",
       "</style>\n",
       "<table border=\"1\" class=\"dataframe\">\n",
       "  <thead>\n",
       "    <tr style=\"text-align: right;\">\n",
       "      <th></th>\n",
       "      <th>Agent Name</th>\n",
       "      <th>Date</th>\n",
       "      <th>Total Feedback</th>\n",
       "      <th>Total Chats</th>\n",
       "      <th>chats_as_feedback_in_perc</th>\n",
       "    </tr>\n",
       "  </thead>\n",
       "  <tbody>\n",
       "    <tr>\n",
       "      <th>0</th>\n",
       "      <td>Prerna Singh</td>\n",
       "      <td>2022-07-30</td>\n",
       "      <td>9</td>\n",
       "      <td>11</td>\n",
       "      <td>81.818182</td>\n",
       "    </tr>\n",
       "    <tr>\n",
       "      <th>1</th>\n",
       "      <td>Nandani Gupta</td>\n",
       "      <td>2022-07-30</td>\n",
       "      <td>7</td>\n",
       "      <td>11</td>\n",
       "      <td>63.636364</td>\n",
       "    </tr>\n",
       "    <tr>\n",
       "      <th>2</th>\n",
       "      <td>Ameya Jain</td>\n",
       "      <td>2022-07-30</td>\n",
       "      <td>11</td>\n",
       "      <td>14</td>\n",
       "      <td>78.571429</td>\n",
       "    </tr>\n",
       "    <tr>\n",
       "      <th>3</th>\n",
       "      <td>Mahesh Sarade</td>\n",
       "      <td>2022-07-30</td>\n",
       "      <td>7</td>\n",
       "      <td>14</td>\n",
       "      <td>50.000000</td>\n",
       "    </tr>\n",
       "    <tr>\n",
       "      <th>4</th>\n",
       "      <td>Swati</td>\n",
       "      <td>2022-07-30</td>\n",
       "      <td>6</td>\n",
       "      <td>14</td>\n",
       "      <td>42.857143</td>\n",
       "    </tr>\n",
       "    <tr>\n",
       "      <th>...</th>\n",
       "      <td>...</td>\n",
       "      <td>...</td>\n",
       "      <td>...</td>\n",
       "      <td>...</td>\n",
       "      <td>...</td>\n",
       "    </tr>\n",
       "    <tr>\n",
       "      <th>2101</th>\n",
       "      <td>Jaydeep Dixit</td>\n",
       "      <td>2022-07-01</td>\n",
       "      <td>13</td>\n",
       "      <td>25</td>\n",
       "      <td>52.000000</td>\n",
       "    </tr>\n",
       "    <tr>\n",
       "      <th>2102</th>\n",
       "      <td>Shivananda Sonwane</td>\n",
       "      <td>2022-07-01</td>\n",
       "      <td>14</td>\n",
       "      <td>23</td>\n",
       "      <td>60.869565</td>\n",
       "    </tr>\n",
       "    <tr>\n",
       "      <th>2103</th>\n",
       "      <td>Khushboo Priya</td>\n",
       "      <td>2022-07-01</td>\n",
       "      <td>18</td>\n",
       "      <td>24</td>\n",
       "      <td>75.000000</td>\n",
       "    </tr>\n",
       "    <tr>\n",
       "      <th>2104</th>\n",
       "      <td>Hrisikesh Neogi</td>\n",
       "      <td>2022-07-01</td>\n",
       "      <td>9</td>\n",
       "      <td>15</td>\n",
       "      <td>60.000000</td>\n",
       "    </tr>\n",
       "    <tr>\n",
       "      <th>2105</th>\n",
       "      <td>Tarun</td>\n",
       "      <td>2022-07-01</td>\n",
       "      <td>6</td>\n",
       "      <td>22</td>\n",
       "      <td>27.272727</td>\n",
       "    </tr>\n",
       "  </tbody>\n",
       "</table>\n",
       "<p>745 rows × 5 columns</p>\n",
       "</div>"
      ],
      "text/plain": [
       "              Agent Name       Date  Total Feedback  Total Chats  \\\n",
       "0           Prerna Singh 2022-07-30               9           11   \n",
       "1          Nandani Gupta 2022-07-30               7           11   \n",
       "2             Ameya Jain 2022-07-30              11           14   \n",
       "3          Mahesh Sarade 2022-07-30               7           14   \n",
       "4                 Swati  2022-07-30               6           14   \n",
       "...                  ...        ...             ...          ...   \n",
       "2101       Jaydeep Dixit 2022-07-01              13           25   \n",
       "2102  Shivananda Sonwane 2022-07-01              14           23   \n",
       "2103      Khushboo Priya 2022-07-01              18           24   \n",
       "2104     Hrisikesh Neogi 2022-07-01               9           15   \n",
       "2105              Tarun  2022-07-01               6           22   \n",
       "\n",
       "      chats_as_feedback_in_perc  \n",
       "0                     81.818182  \n",
       "1                     63.636364  \n",
       "2                     78.571429  \n",
       "3                     50.000000  \n",
       "4                     42.857143  \n",
       "...                         ...  \n",
       "2101                  52.000000  \n",
       "2102                  60.869565  \n",
       "2103                  75.000000  \n",
       "2104                  60.000000  \n",
       "2105                  27.272727  \n",
       "\n",
       "[745 rows x 5 columns]"
      ]
     },
     "execution_count": 52,
     "metadata": {},
     "output_type": "execute_result"
    }
   ],
   "source": [
    "ap[['Agent Name', 'Date', 'Total Feedback', 'Total Chats', 'chats_as_feedback_in_perc']]"
   ]
  },
  {
   "cell_type": "markdown",
   "id": "ee65a8f2",
   "metadata": {},
   "source": [
    "# Total contributation hour for each and every agents weekly basis"
   ]
  },
  {
   "cell_type": "code",
   "execution_count": 53,
   "id": "b7834072",
   "metadata": {},
   "outputs": [],
   "source": [
    "weekly_working_hrs = al.groupby(['Agent', 'week_id'])['total_duration_in_secs'].sum()/al.groupby(['Agent', 'week_id'])['Date'].nunique()"
   ]
  },
  {
   "cell_type": "code",
   "execution_count": 54,
   "id": "f71c1c60",
   "metadata": {},
   "outputs": [],
   "source": [
    "weekly_working_hrs = weekly_working_hrs/3600"
   ]
  },
  {
   "cell_type": "code",
   "execution_count": 55,
   "id": "b39d9802",
   "metadata": {},
   "outputs": [],
   "source": [
    "weekly_working_hrs.sort_values().to_csv(agent_weekly_contribution_in_hrs)"
   ]
  },
  {
   "cell_type": "markdown",
   "id": "ebedfaf0",
   "metadata": {},
   "source": [
    "# total percentage of active hour for a month"
   ]
  },
  {
   "cell_type": "code",
   "execution_count": 56,
   "id": "b2ea6feb",
   "metadata": {},
   "outputs": [],
   "source": [
    "monthly_working_hrs = al.groupby(['Agent'])['total_duration_in_secs'].sum()/(60*60)"
   ]
  },
  {
   "cell_type": "code",
   "execution_count": 57,
   "id": "d934b53f",
   "metadata": {},
   "outputs": [],
   "source": [
    "monthly_working_hrs.sort_values().to_csv(agent_monthly_working_hrs)"
   ]
  },
  {
   "cell_type": "code",
   "execution_count": null,
   "id": "96a83512",
   "metadata": {},
   "outputs": [],
   "source": []
  }
 ],
 "metadata": {
  "kernelspec": {
   "display_name": "Python 3 (ipykernel)",
   "language": "python",
   "name": "python3"
  },
  "language_info": {
   "codemirror_mode": {
    "name": "ipython",
    "version": 3
   },
   "file_extension": ".py",
   "mimetype": "text/x-python",
   "name": "python",
   "nbconvert_exporter": "python",
   "pygments_lexer": "ipython3",
   "version": "3.9.7"
  }
 },
 "nbformat": 4,
 "nbformat_minor": 5
}
